{
 "cells": [
  {
   "cell_type": "code",
   "execution_count": 1,
   "id": "f7bfb194-f643-47e9-8ee3-61dc6d4f6ba7",
   "metadata": {},
   "outputs": [],
   "source": [
    "import time\n",
    "from multiprocessing import Pool\n",
    "\n",
    "def time_consuming_function(x):\n",
    "    time.sleep(1)  # Simulate that this function takes long to complete\n",
    "    return 1 "
   ]
  },
  {
   "cell_type": "code",
   "execution_count": 2,
   "id": "92ced843-773f-48e2-87d9-329ad0823de1",
   "metadata": {},
   "outputs": [],
   "source": [
    "with Pool(processes=4) as pool:\n",
    "    results = pool.map(time_consuming_function, range(10))"
   ]
  },
  {
   "cell_type": "code",
   "execution_count": 3,
   "id": "6bc2fed9-9dc2-4274-b8f4-a645699b6348",
   "metadata": {},
   "outputs": [],
   "source": [
    "from mpire import WorkerPool\n",
    "\n",
    "with WorkerPool(n_jobs=5) as pool:\n",
    "    results = pool.map(time_consuming_function, range(10))"
   ]
  },
  {
   "cell_type": "code",
   "execution_count": 4,
   "id": "3ece1cd8-5945-43db-ae66-5557cd2fc78a",
   "metadata": {},
   "outputs": [
    {
     "data": {
      "text/plain": [
       "[1, 1, 1, 1, 1, 1, 1, 1, 1, 1]"
      ]
     },
     "execution_count": 4,
     "metadata": {},
     "output_type": "execute_result"
    }
   ],
   "source": [
    "results"
   ]
  },
  {
   "cell_type": "code",
   "execution_count": null,
   "id": "89f08c0a-6988-4d89-8194-0e94001e5416",
   "metadata": {},
   "outputs": [],
   "source": []
  }
 ],
 "metadata": {
  "kernelspec": {
   "display_name": "Python 3 (ipykernel)",
   "language": "python",
   "name": "python3"
  },
  "language_info": {
   "codemirror_mode": {
    "name": "ipython",
    "version": 3
   },
   "file_extension": ".py",
   "mimetype": "text/x-python",
   "name": "python",
   "nbconvert_exporter": "python",
   "pygments_lexer": "ipython3",
   "version": "3.7.10"
  }
 },
 "nbformat": 4,
 "nbformat_minor": 5
}
