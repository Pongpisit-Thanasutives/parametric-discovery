{
 "cells": [
  {
   "cell_type": "code",
   "execution_count": 1,
   "metadata": {},
   "outputs": [
    {
     "name": "stdout",
     "output_type": "stream",
     "text": [
      "Running Python 3.7.10\n",
      "You can use npar for np.array\n"
     ]
    }
   ],
   "source": [
    "%load_ext autoreload\n",
    "%autoreload 2\n",
    "\n",
    "%matplotlib inline\n",
    "import matplotlib.pyplot as plt\n",
    "\n",
    "from sklearn.linear_model import (HuberRegressor, TheilSenRegressor, \n",
    "                                  LinearRegression as SkLinearRegression)\n",
    "from sklearn.metrics import mean_squared_error as mse\n",
    "from sklearn.preprocessing import normalize\n",
    "from abess.linear import LinearRegression\n",
    "from bess import PdasLm\n",
    "import pysindy as ps\n",
    "from utils import BIC_AIC\n",
    "\n",
    "import numpy as np; np.random.seed(0)\n",
    "\n",
    "# from pde_diff import *\n",
    "from pde_diff_new import * # moving to the newer version of PDE-FIND\n",
    "\n",
    "from parametric_pde_find import *\n",
    "# from robust_pde_diff import DLrSR, RobustPCA\n",
    "# https://github.com/nerdull/denoise\n",
    "# from denoise import Denoiser, kalman_denoise\n",
    "from tvregdiff import TVRegDiff, tvregdiff, numdiff, pysindydiff\n",
    "import pynumdiff\n",
    "import sys; sys.path.insert(0, \"../derivative/\"); import derivative\n",
    "\n",
    "from RobustPCA.rpca import RobustPCA\n",
    "from RobustPCA.spcp import StablePCP\n",
    "# from hyperspy.signals import Signal1D\n",
    "from r_pca import R_pca\n",
    "\n",
    "from scipy.integrate import odeint\n",
    "from scipy.linalg import block_diag\n",
    "from scipy.special import huber as hb\n",
    "from scipy.signal import wiener, savgol_filter # (+0, +1)\n",
    "from numpy.fft import fft, ifft, fftfreq\n",
    "from best_subset import *\n",
    "import statsmodels.api as sm\n",
    "# from pysr import PySRRegressor\n",
    "\n",
    "import random; SEEED = 0; random.seed(SEEED)\n",
    "from random import randint, sample\n",
    "from tqdm import trange, tqdm\n",
    "from time import time\n",
    "from functools import cmp_to_key"
   ]
  },
  {
   "cell_type": "code",
   "execution_count": 2,
   "metadata": {
    "tags": []
   },
   "outputs": [],
   "source": [
    "def parametric_burgers_rhs(u, t, params):\n",
    "    k,a,b,c = params\n",
    "    deriv = a*(1+c*np.sin(t))*u*ifft(1j*k*fft(u)) + b*ifft(-k**2*fft(u))\n",
    "    return deriv.real"
   ]
  },
  {
   "cell_type": "code",
   "execution_count": 3,
   "metadata": {
    "tags": []
   },
   "outputs": [],
   "source": [
    "# Set size of grid\n",
    "n = 256\n",
    "m = 256\n",
    "\n",
    "# Set up grid\n",
    "x = np.linspace(-8,8,n+1)[:-1];   dx = x[1]-x[0]\n",
    "t = np.linspace(0,10,m);          dt = t[1]-t[0]\n",
    "k = 2*np.pi*fftfreq(n, d = dx)\n",
    "\n",
    "# Initial condition\n",
    "u0 = np.exp(-(x+1)**2)\n",
    "\n",
    "# Solve with time dependent uu_x term\n",
    "params = (k, -1, 0.1, 0.25)\n",
    "u = odeint(parametric_burgers_rhs, u0, t, args=(params,)).T\n",
    "\n",
    "u_xx_true = 0.1*np.ones(m)\n",
    "uu_x_true = -1*(1+0.25*np.sin(t))"
   ]
  },
  {
   "cell_type": "code",
   "execution_count": 4,
   "metadata": {},
   "outputs": [],
   "source": [
    "# # Plot\n",
    "# fig=figure(figsize=(16,4))\n",
    "# X, T = np.meshgrid(x, t)\n",
    "\n",
    "# subplot(1,2,1)\n",
    "# pcolor(X, T, u.T, cmap=cm.coolwarm)\n",
    "# xlabel('x', fontsize = fontsize)\n",
    "# ylabel('t', fontsize = fontsize)\n",
    "# xticks(fontsize = fontsize)\n",
    "# yticks(fontsize = fontsize)\n",
    "# xlim([x[0],x[-1]])\n",
    "\n",
    "# subplot(1,2,2)\n",
    "# plot(t, uu_x_true, label=r'$uu_{x}$')\n",
    "# plot(t, u_xx_true, label=r'$u_{xx}$')\n",
    "\n",
    "# xticks(fontsize = fontsize)\n",
    "# yticks(fontsize = fontsize)\n",
    "# xlabel('t', fontsize = fontsize)\n",
    "# legend(loc='center left', bbox_to_anchor=(1, 0.5), fontsize = fontsize+2)\n",
    "# fig.tight_layout()"
   ]
  },
  {
   "cell_type": "markdown",
   "metadata": {},
   "source": [
    "#### Computing dervatives + std Noise"
   ]
  },
  {
   "cell_type": "code",
   "execution_count": 5,
   "metadata": {},
   "outputs": [],
   "source": [
    "# just for the reference\n",
    "u_clean = u.copy()\n",
    "Ut_clean, Theta_clean, rhs_des_clean = build_linear_system(u_clean, dt, dx, D=4, P=3, time_diff = 'FD', space_diff = 'FD')\n",
    "# np.allclose(Theta_clean[:, 1:2], u_clean.T.flatten().reshape(-1, 1)) == True\n",
    "Theta_grouped_clean = [(Theta_clean[j*n:(j+1)*n,:]).real for j in range(m)]\n",
    "Ut_grouped_clean = [(Ut_clean[j*n:(j+1)*n]).real for j in range(m)]\n",
    "# finitediff_x = Theta_grouped[1][:, 3:4].flatten()\n",
    "\n",
    "noise_lv = 90; noise = 0.01*np.abs(noise_lv)*u.std()*np.random.randn(n,m)\n",
    "u = u + noise\n",
    "\n",
    "if np.abs(noise_lv) > 0:\n",
    "    # Build linear systems\n",
    "    # D=3 and p=2 for the noise-aware physics-informed paper\n",
    "    wx = 10; wt = 10\n",
    "    Ut, Theta, rhs_des = build_linear_system(u, dt, dx, D=4, P=3, time_diff = 'poly',\n",
    "                                           deg_x = 6, deg_t = 4, \n",
    "                                           width_x = wx, width_t = wt)\n",
    "    n = n - 2*wx\n",
    "    m = m - 2*wt\n",
    "else:\n",
    "    wx = 0; wt = 0\n",
    "    Ut, Theta, rhs_des = build_linear_system(u, dt, dx, D=4, P=3, time_diff = 'FD', space_diff = 'FD')\n",
    "\n",
    "# removing the constant term...\n",
    "Theta = Theta[:, 1:]; rhs_des = rhs_des[1:]\n",
    "# Group by timestep\n",
    "Theta_grouped = [(Theta[j*n:(j+1)*n,:]).real for j in range(m)]\n",
    "Ut_grouped = [(Ut[j*n:(j+1)*n]).real for j in range(m)]"
   ]
  },
  {
   "cell_type": "code",
   "execution_count": 6,
   "metadata": {},
   "outputs": [],
   "source": [
    "# Define weak form PDE library \n",
    "library_functions = [lambda x: x, lambda x: x * x]\n",
    "library_function_names = [lambda x: x, lambda x: x + x]\n",
    "\n",
    "# Need to define the 2D spatiotemporal grid before calling the library\n",
    "X, T = np.meshgrid(x, t)\n",
    "XT = np.asarray([X, T]).T\n",
    "pde_lib = ps.WeakPDELibrary(library_functions=library_functions, \n",
    "                            function_names=library_function_names, \n",
    "                            derivative_order=2,\n",
    "                            spatiotemporal_grid=XT,\n",
    "                            is_uniform=True, K=1000,\n",
    "                            )"
   ]
  },
  {
   "cell_type": "code",
   "execution_count": 7,
   "metadata": {},
   "outputs": [
    {
     "data": {
      "text/plain": [
       "0.778807566767364"
      ]
     },
     "execution_count": 7,
     "metadata": {},
     "output_type": "execute_result"
    }
   ],
   "source": [
    "mse(ps.SmoothedFiniteDifference(axis=0)._differentiate(u, t=dt).flatten(), Ut_clean)"
   ]
  },
  {
   "cell_type": "code",
   "execution_count": 8,
   "metadata": {},
   "outputs": [
    {
     "name": "stdout",
     "output_type": "stream",
     "text": [
      "(u)' = -0.178 uu + -0.187 u_1 + -0.603 uu_1 + -0.009 uuu_11\n"
     ]
    }
   ],
   "source": [
    "optimizer = ps.SR3(threshold=0.1, thresholder='l0', \n",
    "                   tol=1e-8, normalize_columns=True, max_iter=1000)\n",
    "model = ps.SINDy(feature_library=pde_lib, optimizer=optimizer, differentiation_method=ps.SmoothedFiniteDifference, feature_names=['u'])\n",
    "model.fit(np.expand_dims(u,-1), quiet=True)\n",
    "model.print()"
   ]
  },
  {
   "cell_type": "code",
   "execution_count": 9,
   "metadata": {},
   "outputs": [
    {
     "data": {
      "text/plain": [
       "['u', 'uu', 'u_1', 'u_11', 'uu_1', 'uuu_1', 'uu_11', 'uuu_11']"
      ]
     },
     "execution_count": 9,
     "metadata": {},
     "output_type": "execute_result"
    }
   ],
   "source": [
    "model.get_feature_names()"
   ]
  },
  {
   "cell_type": "code",
   "execution_count": null,
   "metadata": {},
   "outputs": [],
   "source": []
  }
 ],
 "metadata": {
  "anaconda-cloud": {},
  "kernelspec": {
   "display_name": "Python 3 (ipykernel)",
   "language": "python",
   "name": "python3"
  },
  "language_info": {
   "codemirror_mode": {
    "name": "ipython",
    "version": 3
   },
   "file_extension": ".py",
   "mimetype": "text/x-python",
   "name": "python",
   "nbconvert_exporter": "python",
   "pygments_lexer": "ipython3",
   "version": "3.7.10"
  }
 },
 "nbformat": 4,
 "nbformat_minor": 4
}
