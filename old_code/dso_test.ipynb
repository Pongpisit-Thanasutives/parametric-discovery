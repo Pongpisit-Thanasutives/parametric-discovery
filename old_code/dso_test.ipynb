{
 "cells": [
  {
   "cell_type": "markdown",
   "id": "2c3ed38a-e599-4562-aa44-528252167f1a",
   "metadata": {},
   "source": [
    "#### Add your own model selection to the models dso suggest"
   ]
  },
  {
   "cell_type": "code",
   "execution_count": 1,
   "id": "06dc2242-9c3e-49c7-b56f-994f1b47795c",
   "metadata": {},
   "outputs": [],
   "source": [
    "%matplotlib inline\n",
    "import matplotlib.pyplot as plt\n",
    "import numpy as np\n",
    "from scipy.signal import wiener, savgol_filter\n",
    "\n",
    "from dso import DeepSymbolicRegressor"
   ]
  },
  {
   "cell_type": "code",
   "execution_count": 2,
   "id": "d9e16621-549a-4830-8d20-2ff3bbdb0c2e",
   "metadata": {},
   "outputs": [],
   "source": [
    "X = np.load(\"./tmp_data/t.npy\").reshape(-1, 1)\n",
    "y = np.load(\"./tmp_data/xi.npy\"); y = y[0]"
   ]
  },
  {
   "cell_type": "code",
   "execution_count": 3,
   "id": "c9fb0074-7e69-45ff-a03c-a47f5669d494",
   "metadata": {},
   "outputs": [],
   "source": [
    "# wl = len(y)//2-3; print(wl)\n",
    "# y = savgol_filter(y, wl, 2)"
   ]
  },
  {
   "cell_type": "code",
   "execution_count": 4,
   "id": "2d0de5ae-77ce-4d1d-8d44-e2fdd4945cbf",
   "metadata": {},
   "outputs": [],
   "source": [
    "complexity = 12\n",
    "# config = {\"task\" : \n",
    "#           {\n",
    "#             \"task_type\" : \"regression\",\n",
    "#             \"function_set\" : [\"add\", \"sub\", \"mul\", \"sin\", \"cos\", \"exp\", 1]\n",
    "#           }, \n",
    "#           \"controller\": {\"max_length\": complexity}, \n",
    "#           \"prior\": {\"length\": {\"max_\": complexity}}\n",
    "#          }\n",
    "\n",
    "config = {\"task\" : \n",
    "          {\n",
    "            \"task_type\" : \"regression\",\n",
    "            \"function_set\" : [\"add\", \"sub\", \"mul\", \"sin\", \"cos\", 1]\n",
    "          }, \n",
    "          \"controller\": {\"max_length\": complexity},\n",
    "          \"prior\": {\"length\": {\"max_\": complexity}}\n",
    "         }"
   ]
  },
  {
   "cell_type": "code",
   "execution_count": 5,
   "id": "f81ff6de-fc84-411e-8425-68335f6fdd30",
   "metadata": {},
   "outputs": [],
   "source": [
    "model = DeepSymbolicRegressor(config)"
   ]
  },
  {
   "cell_type": "code",
   "execution_count": 6,
   "id": "86e3d3b4-d1eb-46f0-b40a-b9b0777ed10a",
   "metadata": {},
   "outputs": [
    {
     "name": "stdout",
     "output_type": "stream",
     "text": [
      "WARNING: logdir not provided. Results will not be saved to file.\n",
      "-- BUILDING PRIOR START -------------\n",
      "WARNING: Skipping invalid 'InverseUnaryConstraint' with arguments {}. Reason: There are no inverse unary Token pairs in the Library.\n",
      "WARNING: Skipping invalid 'UniformArityPrior' with arguments {}. Reason: Prior disabled.\n",
      "WARNING: Skipping invalid 'RepeatConstraint' with arguments {'tokens': 'const', 'max_': 10, 'min_': None}. Reason: Uses Tokens not in the Library.\n",
      "WARNING: Skipping invalid 'LanguageModelPrior' with arguments {'weight': None}. Reason: Prior disabled.\n",
      "WARNING: Skipping invalid 'RelationalConstraint' with arguments {'targets': [], 'relationship': None, 'effectors': []}. Reason: Prior disabled.\n",
      "WARNING: Skipping invalid 'ConstConstraint' with arguments {}. Reason: Uses Tokens not in the Library.\n",
      "LengthConstraint: Sequences have minimum length 4.\n",
      "                  Sequences have maximum length 12.\n",
      "SoftLengthPrior: No description available.\n",
      "NoInputsConstraint: Sequences contain at least one input variable Token.\n",
      "TrigConstraint: [sin, cos] cannot be a descendant of [sin, cos].\n",
      "-- BUILDING PRIOR END ---------------\n",
      "\n",
      "-- RUNNING EPOCHS START -------------\n",
      "[00:00:00:04.25] Training epoch 1/4000, current best R: 0.5051\n",
      "\n",
      "\t** New best\n",
      "\tReward: 0.5051258324027987\n",
      "\tCount Off-policy: 1\n",
      "\tCount On-policy: 0\n",
      "\tOriginally on Policy: False\n",
      "\tInvalid: False\n",
      "\tTraversal: sub,mul,sin,x1,sin,1.0,add,sin,x1,sin,1.0\n",
      "\tExpression:\n",
      "\t  -0.158529015192103⋅sin(x₁) - 0.841470984807897\n",
      "\n",
      "[00:00:00:20.78] Training epoch 10/4000, current best R: 0.5051\n",
      "[00:00:00:35.15] Training epoch 19/4000, current best R: 0.5105\n",
      "\n",
      "\t** New best\n",
      "\tReward: 0.5104889099135578\n",
      "\tCount Off-policy: 1\n",
      "\tCount On-policy: 0\n",
      "\tOriginally on Policy: False\n",
      "\tInvalid: False\n",
      "\tTraversal: sub,mul,sin,x1,sub,sin,1.0,1.0,sin,add,1.0,1.0\n",
      "\tExpression:\n",
      "\t  -0.158529015192103⋅sin(x₁) - 0.909297426825682\n",
      "\n",
      "[00:00:00:36.75] Training epoch 20/4000, current best R: 0.5105\n",
      "[00:00:00:52.78] Training epoch 30/4000, current best R: 0.5105\n",
      "[00:00:01:09.26] Training epoch 40/4000, current best R: 0.5105\n",
      "[00:00:01:27.03] Training epoch 50/4000, current best R: 0.5105\n",
      "[00:00:01:44.35] Training epoch 60/4000, current best R: 0.5105\n",
      "[00:00:02:00.95] Training epoch 70/4000, current best R: 0.5105\n",
      "[00:00:02:18.34] Training epoch 80/4000, current best R: 0.5105\n",
      "[00:00:02:29.56] Training epoch 87/4000, current best R: 0.5171\n",
      "\n",
      "\t** New best\n",
      "\tReward: 0.5171350038852489\n",
      "\tCount Off-policy: 0\n",
      "\tCount On-policy: 1\n",
      "\tOriginally on Policy: True\n",
      "\tInvalid: False\n",
      "\tTraversal: cos,add,1.0,add,1.0,sin,add,1.0,sin,sin,sin,x1\n",
      "\tExpression:\n",
      "\t  cos(sin(sin(sin(sin(x₁))) + 1.0) + 2.0)\n",
      "\n",
      "[00:00:02:35.04] Training epoch 90/4000, current best R: 0.5171\n",
      "[00:00:02:51.22] Training epoch 100/4000, current best R: 0.5171\n",
      "[00:00:03:08.49] Training epoch 110/4000, current best R: 0.5171\n",
      "[00:00:03:25.44] Training epoch 120/4000, current best R: 0.5171\n",
      "[00:00:03:40.80] Training epoch 130/4000, current best R: 0.5171\n",
      "[00:00:03:55.93] Training epoch 140/4000, current best R: 0.5171\n",
      "[00:00:04:11.20] Training epoch 150/4000, current best R: 0.5171\n",
      "[00:00:04:26.22] Training epoch 160/4000, current best R: 0.5171\n"
     ]
    },
    {
     "ename": "KeyboardInterrupt",
     "evalue": "",
     "output_type": "error",
     "traceback": [
      "\u001b[0;31m---------------------------------------------------------------------------\u001b[0m",
      "\u001b[0;31mKeyboardInterrupt\u001b[0m                         Traceback (most recent call last)",
      "\u001b[0;32m<ipython-input-6-6d10fe8973eb>\u001b[0m in \u001b[0;36m<module>\u001b[0;34m\u001b[0m\n\u001b[0;32m----> 1\u001b[0;31m \u001b[0mmodel\u001b[0m\u001b[0;34m.\u001b[0m\u001b[0mfit\u001b[0m\u001b[0;34m(\u001b[0m\u001b[0mX\u001b[0m\u001b[0;34m,\u001b[0m \u001b[0my\u001b[0m\u001b[0;34m)\u001b[0m\u001b[0;34m\u001b[0m\u001b[0m\n\u001b[0m",
      "\u001b[0;32m~/Desktop/research/deep-symbolic-optimization/dso/dso/task/regression/sklearn.py\u001b[0m in \u001b[0;36mfit\u001b[0;34m(self, X, y)\u001b[0m\n\u001b[1;32m     31\u001b[0m         \u001b[0mself\u001b[0m\u001b[0;34m.\u001b[0m\u001b[0mset_config\u001b[0m\u001b[0;34m(\u001b[0m\u001b[0mconfig\u001b[0m\u001b[0;34m)\u001b[0m\u001b[0;34m\u001b[0m\u001b[0m\n\u001b[1;32m     32\u001b[0m \u001b[0;34m\u001b[0m\u001b[0m\n\u001b[0;32m---> 33\u001b[0;31m         \u001b[0mtrain_result\u001b[0m \u001b[0;34m=\u001b[0m \u001b[0mself\u001b[0m\u001b[0;34m.\u001b[0m\u001b[0mtrain\u001b[0m\u001b[0;34m(\u001b[0m\u001b[0;34m)\u001b[0m\u001b[0;34m\u001b[0m\u001b[0m\n\u001b[0m\u001b[1;32m     34\u001b[0m         \u001b[0mself\u001b[0m\u001b[0;34m.\u001b[0m\u001b[0mprogram_\u001b[0m \u001b[0;34m=\u001b[0m \u001b[0mtrain_result\u001b[0m\u001b[0;34m[\u001b[0m\u001b[0;34m\"program\"\u001b[0m\u001b[0;34m]\u001b[0m\u001b[0;34m\u001b[0m\u001b[0m\n\u001b[1;32m     35\u001b[0m \u001b[0;34m\u001b[0m\u001b[0m\n",
      "\u001b[0;32m~/Desktop/research/deep-symbolic-optimization/dso/dso/core.py\u001b[0m in \u001b[0;36mtrain\u001b[0;34m(self)\u001b[0m\n\u001b[1;32m     81\u001b[0m                             \u001b[0mself\u001b[0m\u001b[0;34m.\u001b[0m\u001b[0mgp_controller\u001b[0m\u001b[0;34m,\u001b[0m\u001b[0;34m\u001b[0m\u001b[0m\n\u001b[1;32m     82\u001b[0m                             \u001b[0mself\u001b[0m\u001b[0;34m.\u001b[0m\u001b[0moutput_file\u001b[0m\u001b[0;34m,\u001b[0m\u001b[0;34m\u001b[0m\u001b[0m\n\u001b[0;32m---> 83\u001b[0;31m                             **self.config_training))\n\u001b[0m\u001b[1;32m     84\u001b[0m         \u001b[0;32mreturn\u001b[0m \u001b[0mresult\u001b[0m\u001b[0;34m\u001b[0m\u001b[0m\n\u001b[1;32m     85\u001b[0m \u001b[0;34m\u001b[0m\u001b[0m\n",
      "\u001b[0;32m~/Desktop/research/deep-symbolic-optimization/dso/dso/train.py\u001b[0m in \u001b[0;36mlearn\u001b[0;34m(sess, controller, pool, gp_controller, output_file, n_epochs, n_samples, batch_size, complexity, const_optimizer, const_params, alpha, epsilon, n_cores_batch, verbose, save_summary, save_all_epoch, baseline, b_jumpstart, early_stopping, hof, eval_all, save_pareto_front, debug, use_memory, memory_capacity, warm_start, memory_threshold, save_positional_entropy, save_top_samples_per_batch, save_cache, save_cache_r_min, save_freq, save_token_count)\u001b[0m\n\u001b[1;32m    261\u001b[0m         \u001b[0;31m# Run GP seeded with the current batch, returning elite samples\u001b[0m\u001b[0;34m\u001b[0m\u001b[0;34m\u001b[0m\u001b[0m\n\u001b[1;32m    262\u001b[0m         \u001b[0;32mif\u001b[0m \u001b[0mrun_gp_meld\u001b[0m\u001b[0;34m:\u001b[0m\u001b[0;34m\u001b[0m\u001b[0m\n\u001b[0;32m--> 263\u001b[0;31m             \u001b[0mdeap_programs\u001b[0m\u001b[0;34m,\u001b[0m \u001b[0mdeap_actions\u001b[0m\u001b[0;34m,\u001b[0m \u001b[0mdeap_obs\u001b[0m\u001b[0;34m,\u001b[0m \u001b[0mdeap_priors\u001b[0m \u001b[0;34m=\u001b[0m \u001b[0mgp_controller\u001b[0m\u001b[0;34m(\u001b[0m\u001b[0mactions\u001b[0m\u001b[0;34m)\u001b[0m\u001b[0;34m\u001b[0m\u001b[0m\n\u001b[0m\u001b[1;32m    264\u001b[0m             \u001b[0mnevals\u001b[0m \u001b[0;34m+=\u001b[0m \u001b[0mgp_controller\u001b[0m\u001b[0;34m.\u001b[0m\u001b[0mnevals\u001b[0m\u001b[0;34m\u001b[0m\u001b[0m\n\u001b[1;32m    265\u001b[0m \u001b[0;34m\u001b[0m\u001b[0m\n",
      "\u001b[0;32m~/Desktop/research/deep-symbolic-optimization/dso/dso/gp/gp_controller.py\u001b[0m in \u001b[0;36m__call__\u001b[0;34m(self, actions)\u001b[0m\n\u001b[1;32m    213\u001b[0m \u001b[0;34m\u001b[0m\u001b[0m\n\u001b[1;32m    214\u001b[0m         \u001b[0;31m# Get DSO generated batch members into Deap based \"individuals\"\u001b[0m\u001b[0;34m\u001b[0m\u001b[0;34m\u001b[0m\u001b[0m\n\u001b[0;32m--> 215\u001b[0;31m         \u001b[0mindividuals\u001b[0m \u001b[0;34m=\u001b[0m \u001b[0;34m[\u001b[0m\u001b[0mself\u001b[0m\u001b[0;34m.\u001b[0m\u001b[0mcreator\u001b[0m\u001b[0;34m.\u001b[0m\u001b[0mIndividual\u001b[0m\u001b[0;34m(\u001b[0m\u001b[0mU\u001b[0m\u001b[0;34m.\u001b[0m\u001b[0mtokens_to_DEAP\u001b[0m\u001b[0;34m(\u001b[0m\u001b[0ma\u001b[0m\u001b[0;34m,\u001b[0m \u001b[0mself\u001b[0m\u001b[0;34m.\u001b[0m\u001b[0mpset\u001b[0m\u001b[0;34m)\u001b[0m\u001b[0;34m)\u001b[0m \u001b[0;32mfor\u001b[0m \u001b[0ma\u001b[0m \u001b[0;32min\u001b[0m \u001b[0mactions\u001b[0m\u001b[0;34m]\u001b[0m\u001b[0;34m\u001b[0m\u001b[0m\n\u001b[0m\u001b[1;32m    216\u001b[0m         \u001b[0mself\u001b[0m\u001b[0;34m.\u001b[0m\u001b[0malgorithm\u001b[0m\u001b[0;34m.\u001b[0m\u001b[0mset_population\u001b[0m\u001b[0;34m(\u001b[0m\u001b[0mindividuals\u001b[0m\u001b[0;34m)\u001b[0m\u001b[0;34m\u001b[0m\u001b[0m\n\u001b[1;32m    217\u001b[0m \u001b[0;34m\u001b[0m\u001b[0m\n",
      "\u001b[0;32m~/Desktop/research/deep-symbolic-optimization/dso/dso/gp/gp_controller.py\u001b[0m in \u001b[0;36m<listcomp>\u001b[0;34m(.0)\u001b[0m\n\u001b[1;32m    213\u001b[0m \u001b[0;34m\u001b[0m\u001b[0m\n\u001b[1;32m    214\u001b[0m         \u001b[0;31m# Get DSO generated batch members into Deap based \"individuals\"\u001b[0m\u001b[0;34m\u001b[0m\u001b[0;34m\u001b[0m\u001b[0m\n\u001b[0;32m--> 215\u001b[0;31m         \u001b[0mindividuals\u001b[0m \u001b[0;34m=\u001b[0m \u001b[0;34m[\u001b[0m\u001b[0mself\u001b[0m\u001b[0;34m.\u001b[0m\u001b[0mcreator\u001b[0m\u001b[0;34m.\u001b[0m\u001b[0mIndividual\u001b[0m\u001b[0;34m(\u001b[0m\u001b[0mU\u001b[0m\u001b[0;34m.\u001b[0m\u001b[0mtokens_to_DEAP\u001b[0m\u001b[0;34m(\u001b[0m\u001b[0ma\u001b[0m\u001b[0;34m,\u001b[0m \u001b[0mself\u001b[0m\u001b[0;34m.\u001b[0m\u001b[0mpset\u001b[0m\u001b[0;34m)\u001b[0m\u001b[0;34m)\u001b[0m \u001b[0;32mfor\u001b[0m \u001b[0ma\u001b[0m \u001b[0;32min\u001b[0m \u001b[0mactions\u001b[0m\u001b[0;34m]\u001b[0m\u001b[0;34m\u001b[0m\u001b[0m\n\u001b[0m\u001b[1;32m    216\u001b[0m         \u001b[0mself\u001b[0m\u001b[0;34m.\u001b[0m\u001b[0malgorithm\u001b[0m\u001b[0;34m.\u001b[0m\u001b[0mset_population\u001b[0m\u001b[0;34m(\u001b[0m\u001b[0mindividuals\u001b[0m\u001b[0;34m)\u001b[0m\u001b[0;34m\u001b[0m\u001b[0m\n\u001b[1;32m    217\u001b[0m \u001b[0;34m\u001b[0m\u001b[0m\n",
      "\u001b[0;32m~/Desktop/research/deep-symbolic-optimization/dso/dso/gp/utils.py\u001b[0m in \u001b[0;36mtokens_to_DEAP\u001b[0;34m(tokens, pset)\u001b[0m\n\u001b[1;32m    218\u001b[0m     \"\"\"\n\u001b[1;32m    219\u001b[0m \u001b[0;34m\u001b[0m\u001b[0m\n\u001b[0;32m--> 220\u001b[0;31m     \u001b[0mtokens\u001b[0m \u001b[0;34m=\u001b[0m \u001b[0m_finish_tokens\u001b[0m\u001b[0;34m(\u001b[0m\u001b[0mtokens\u001b[0m\u001b[0;34m)\u001b[0m\u001b[0;34m\u001b[0m\u001b[0m\n\u001b[0m\u001b[1;32m    221\u001b[0m     \u001b[0mplist\u001b[0m \u001b[0;34m=\u001b[0m \u001b[0;34m[\u001b[0m\u001b[0mpset\u001b[0m\u001b[0;34m.\u001b[0m\u001b[0mmapping\u001b[0m\u001b[0;34m[\u001b[0m\u001b[0mt\u001b[0m\u001b[0;34m]\u001b[0m \u001b[0;32mfor\u001b[0m \u001b[0mt\u001b[0m \u001b[0;32min\u001b[0m \u001b[0mtokens\u001b[0m\u001b[0;34m]\u001b[0m\u001b[0;34m\u001b[0m\u001b[0m\n\u001b[1;32m    222\u001b[0m     \u001b[0mindividual\u001b[0m \u001b[0;34m=\u001b[0m \u001b[0mgp\u001b[0m\u001b[0;34m.\u001b[0m\u001b[0mPrimitiveTree\u001b[0m\u001b[0;34m(\u001b[0m\u001b[0mplist\u001b[0m\u001b[0;34m)\u001b[0m\u001b[0;34m\u001b[0m\u001b[0m\n",
      "\u001b[0;32m~/Desktop/research/deep-symbolic-optimization/dso/dso/program.py\u001b[0m in \u001b[0;36m_finish_tokens\u001b[0;34m(tokens)\u001b[0m\n\u001b[1;32m     45\u001b[0m     \u001b[0;32mif\u001b[0m \u001b[0;34m-\u001b[0m\u001b[0mn_objects\u001b[0m \u001b[0;32min\u001b[0m \u001b[0;34m(\u001b[0m\u001b[0mdangling\u001b[0m \u001b[0;34m-\u001b[0m \u001b[0;36m1\u001b[0m\u001b[0;34m)\u001b[0m\u001b[0;34m:\u001b[0m\u001b[0;34m\u001b[0m\u001b[0m\n\u001b[1;32m     46\u001b[0m         \u001b[0;31m# Chop off tokens once the cumsum reaches 0, This is the last valid point in the tokens\u001b[0m\u001b[0;34m\u001b[0m\u001b[0;34m\u001b[0m\u001b[0m\n\u001b[0;32m---> 47\u001b[0;31m         \u001b[0mexpr_length\u001b[0m \u001b[0;34m=\u001b[0m \u001b[0;36m1\u001b[0m \u001b[0;34m+\u001b[0m \u001b[0mnp\u001b[0m\u001b[0;34m.\u001b[0m\u001b[0margmax\u001b[0m\u001b[0;34m(\u001b[0m\u001b[0;34m(\u001b[0m\u001b[0mdangling\u001b[0m \u001b[0;34m-\u001b[0m \u001b[0;36m1\u001b[0m\u001b[0;34m)\u001b[0m \u001b[0;34m==\u001b[0m \u001b[0;34m-\u001b[0m\u001b[0mn_objects\u001b[0m\u001b[0;34m)\u001b[0m\u001b[0;34m\u001b[0m\u001b[0m\n\u001b[0m\u001b[1;32m     48\u001b[0m         \u001b[0mtokens\u001b[0m \u001b[0;34m=\u001b[0m \u001b[0mtokens\u001b[0m\u001b[0;34m[\u001b[0m\u001b[0;34m:\u001b[0m\u001b[0mexpr_length\u001b[0m\u001b[0;34m]\u001b[0m\u001b[0;34m\u001b[0m\u001b[0m\n\u001b[1;32m     49\u001b[0m     \u001b[0;32melse\u001b[0m\u001b[0;34m:\u001b[0m\u001b[0;34m\u001b[0m\u001b[0m\n",
      "\u001b[0;32m<__array_function__ internals>\u001b[0m in \u001b[0;36margmax\u001b[0;34m(*args, **kwargs)\u001b[0m\n",
      "\u001b[0;31mKeyboardInterrupt\u001b[0m: "
     ]
    }
   ],
   "source": [
    "model.fit(X, y)"
   ]
  },
  {
   "cell_type": "code",
   "execution_count": null,
   "id": "045f1d7a-cdad-4203-9cc9-597f6dffd5a5",
   "metadata": {},
   "outputs": [],
   "source": []
  }
 ],
 "metadata": {
  "kernelspec": {
   "display_name": "Python [conda env:py3.5]",
   "language": "python",
   "name": "conda-env-py3.5-py"
  },
  "language_info": {
   "codemirror_mode": {
    "name": "ipython",
    "version": 3
   },
   "file_extension": ".py",
   "mimetype": "text/x-python",
   "name": "python",
   "nbconvert_exporter": "python",
   "pygments_lexer": "ipython3",
   "version": "3.5.5"
  },
  "widgets": {
   "application/vnd.jupyter.widget-state+json": {
    "state": {},
    "version_major": 2,
    "version_minor": 0
   }
  }
 },
 "nbformat": 4,
 "nbformat_minor": 5
}
