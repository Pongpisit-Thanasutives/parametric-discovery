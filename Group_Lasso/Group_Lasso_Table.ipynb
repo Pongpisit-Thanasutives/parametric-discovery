{
 "cells": [
  {
   "cell_type": "code",
   "execution_count": 1,
   "id": "aa2e03c2-aab0-418a-8a9a-a82c5dfeb644",
   "metadata": {},
   "outputs": [],
   "source": [
    "%matplotlib inline\n",
    "import matplotlib.pyplot as plt\n",
    "import scienceplots\n",
    "import numpy as np"
   ]
  },
  {
   "cell_type": "code",
   "execution_count": 2,
   "id": "2c7024f8-3b44-44cc-81e8-0c9815c4b1d8",
   "metadata": {},
   "outputs": [
    {
     "data": {
      "text/plain": [
       "array(['u^2', 'u_x', 'u_xx', 'u_xxxx', 'uu_x'], dtype='<U9')"
      ]
     },
     "execution_count": 2,
     "metadata": {},
     "output_type": "execute_result"
    }
   ],
   "source": [
    "xi = np.load(\"burgers_xi_lasso.npy\")\n",
    "rhs_des = np.load(\"../Datasets/cache/burgers_rhs_des.npy\")\n",
    "effective_indices = [j for j in np.where(np.linalg.norm(xi, axis=-1) > 1e-10)[0]]\n",
    "rhs_des[effective_indices]"
   ]
  },
  {
   "cell_type": "code",
   "execution_count": 3,
   "id": "35e144c1-d1e8-4c21-9b1d-fa60942d5393",
   "metadata": {},
   "outputs": [
    {
     "data": {
      "text/plain": [
       "array(['u', 'u_x', 'u_xx', 'u_xxx'], dtype='<U9')"
      ]
     },
     "execution_count": 3,
     "metadata": {},
     "output_type": "execute_result"
    }
   ],
   "source": [
    "xi = np.load(\"ad_xi_lasso.npy\")\n",
    "rhs_des = np.load(\"../Datasets/cache/ad_rhs_des.npy\")\n",
    "effective_indices = [j for j in np.where(np.linalg.norm(xi, axis=-1) > 1e-10)[0]]\n",
    "rhs_des[effective_indices]"
   ]
  },
  {
   "cell_type": "code",
   "execution_count": 4,
   "id": "11112c09-550a-4061-880e-211021d1efdb",
   "metadata": {},
   "outputs": [
    {
     "data": {
      "text/plain": [
       "array(['u', 'u_x', 'u_xx', 'u_xxx', 'u_xxxx', 'uu_x', 'u^2u_x', 'u^3u_x'],\n",
       "      dtype='<U9')"
      ]
     },
     "execution_count": 4,
     "metadata": {},
     "output_type": "execute_result"
    }
   ],
   "source": [
    "xi = np.load(\"ks_xi_lasso.npy\")\n",
    "rhs_des = np.load(\"../Datasets/cache/ks_rhs_des.npy\")\n",
    "effective_indices = [j for j in np.where(np.linalg.norm(xi, axis=-1) > 1e-10)[0]]\n",
    "rhs_des[effective_indices]"
   ]
  },
  {
   "cell_type": "code",
   "execution_count": 5,
   "id": "ce7bb539-232c-4230-a958-169d4489e60f",
   "metadata": {},
   "outputs": [],
   "source": [
    "# 100 percent recall -> OK to be a preprocessing/candidate_filtering step\n",
    "# \\{u^{2}, u_{x}, u_{xx}, u_{xxxx}, uu_{x}\\}\n",
    "# \\{u, u_{x}, u_{xx}, u_{xxx}\\}\n",
    "# \\{u, u_{x}, u_{xx}, u_{xxx}, u_{xxxx}, uu_{x}, u^{2}u_{x}, u^{3}u_{x}\\}"
   ]
  }
 ],
 "metadata": {
  "kernelspec": {
   "display_name": "Python [conda env:sindy]",
   "language": "python",
   "name": "conda-env-sindy-py"
  },
  "language_info": {
   "codemirror_mode": {
    "name": "ipython",
    "version": 3
   },
   "file_extension": ".py",
   "mimetype": "text/x-python",
   "name": "python",
   "nbconvert_exporter": "python",
   "pygments_lexer": "ipython3",
   "version": "3.10.13"
  }
 },
 "nbformat": 4,
 "nbformat_minor": 5
}
