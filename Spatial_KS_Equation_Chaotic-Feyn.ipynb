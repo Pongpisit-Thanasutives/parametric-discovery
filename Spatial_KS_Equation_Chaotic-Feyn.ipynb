{
 "cells": [
  {
   "cell_type": "code",
   "execution_count": null,
   "metadata": {},
   "outputs": [],
   "source": [
    "%load_ext autoreload\n",
    "%autoreload 2\n",
    "%pylab inline\n",
    "from functools import partial, reduce\n",
    "from funcy import compose\n",
    "import numpy as np\n",
    "from parametric_pde_find import *\n",
    "from scipy.integrate import odeint\n",
    "from scipy.stats import wilcoxon, ranksums, mannwhitneyu, friedmanchisquare\n",
    "from scipy.signal import savgol_filter\n",
    "from numpy.fft import fft, ifft, fftfreq\n",
    "from robust_pde_diff import DLrSR, RobustPCA, DLrSR_para\n",
    "from para_UBIC import *\n",
    "from best_subset import *\n",
    "from solvel0 import solvel0\n",
    "\n",
    "from findiff import FinDiff\n",
    "from abess.linear import LinearRegression\n",
    "from sklearn.linear_model import BayesianRidge, ARDRegression, Ridge, Lasso\n",
    "from sklearn.utils.random import sample_without_replacement\n",
    "from UBIC import fit_blr, UBIC, decreasing_values_indices\n",
    "# from skscope_tools import best_subset_all_solutions, abess_all_solutions\n",
    "\n",
    "from tqdm import tqdm\n",
    "\n",
    "from pysr import PySRRegressor\n",
    "import feyn\n",
    "from sympy import latex\n",
    "\n",
    "fontsize = 20 # for plots"
   ]
  },
  {
   "cell_type": "code",
   "execution_count": null,
   "metadata": {
    "tags": []
   },
   "outputs": [],
   "source": [
    "def ks_rhs(u, t, params):\n",
    "    k, L, x = params\n",
    "    a = (1 + 0.25*np.sin(x*2*np.pi/L))  # uu_x\n",
    "    b = -1 + 0.25*np.exp(-(x-2)**2/5)   # u_{xx}\n",
    "    c = -1 - 0.25*np.exp(-(x+2)**2/5)   # u_{xxxx}\n",
    "    deriv = a*u*ifft(1j*k*fft(u)) + b*ifft(-k**2*fft(u)) + c*ifft(k**4*fft(u))\n",
    "    return real(deriv)"
   ]
  },
  {
   "cell_type": "code",
   "execution_count": null,
   "metadata": {
    "tags": []
   },
   "outputs": [],
   "source": [
    "# Set size of grid\n",
    "n = 512\n",
    "m = 512\n",
    "L = 20\n",
    "max_time = 200\n",
    "\n",
    "# Set up grid\n",
    "x = np.linspace(-L,L,n+1)[:-1]; dx = x[1]-x[0]\n",
    "t = np.linspace(0,max_time,2*m); dt = t[1]-t[0]\n",
    "k = 2*np.pi*fftfreq(n, d = dx)\n",
    "\n",
    "# Initial condition\n",
    "u0 = np.exp(-(x)**2)\n",
    "\n",
    "# Solve with time dependent uu_x term\n",
    "params = (k,L,x)\n",
    "# u_full = odeint(ks_rhs, u0, t, args=(params,)).T\n",
    "u_full = np.load(\"./Datasets/ks_u_full.npy\")"
   ]
  },
  {
   "cell_type": "code",
   "execution_count": null,
   "metadata": {
    "scrolled": true
   },
   "outputs": [],
   "source": [
    "# Plot\n",
    "fig = figure(figsize=(16, 4))\n",
    "X, T = np.meshgrid(x, t)\n",
    "\n",
    "subplot(1,2,1)\n",
    "pcolor(X, T, u_full.T, cmap=cm.coolwarm)\n",
    "xlabel('x', fontsize = fontsize)\n",
    "ylabel('t', fontsize = fontsize)\n",
    "xticks(fontsize = fontsize)\n",
    "yticks(fontsize = fontsize)\n",
    "\n",
    "uu_x_true = 1 + 0.25*np.sin(x*2*np.pi/L)\n",
    "u_xx_true = -1 + 0.25*np.exp(-(x-2)**2/5)\n",
    "u_4x_true = -1 - 0.25*np.exp(-(x+2)**2/5)\n",
    "\n",
    "subplot(1,2,2)\n",
    "plot(x, uu_x_true, label = r'$uu_x$')\n",
    "plot(x, u_xx_true, label = r'$u_{xx}$')\n",
    "plot(x, u_4x_true, label = r'$u_{xxxx}$')\n",
    "xlim([x[0],x[-1]])\n",
    "\n",
    "xticks(fontsize = fontsize)\n",
    "yticks(fontsize = fontsize)\n",
    "xlabel('x', fontsize = fontsize)\n",
    "legend(loc='center left', bbox_to_anchor=(1, 0.5), fontsize = fontsize+2)\n",
    "# fig.tight_layout()"
   ]
  },
  {
   "cell_type": "code",
   "execution_count": null,
   "metadata": {},
   "outputs": [],
   "source": [
    "# u = u_full[:,-m:]\n",
    "# t = t[-m:]\n",
    "u = u_full[:,:m]\n",
    "t = t[:m]"
   ]
  },
  {
   "cell_type": "code",
   "execution_count": null,
   "metadata": {},
   "outputs": [],
   "source": [
    "noise_lv = 0.01\n",
    "np.random.seed(0)\n",
    "u = u + noise_lv*0.01*std(u)*np.random.randn(n,m)\n",
    "\n",
    "is_denoising = True\n",
    "if is_denoising and noise_lv > 0:\n",
    "    window_size = 15\n",
    "    poly_order = 2\n",
    "    u = savgol_filter(u, window_size, poly_order, axis=0)\n",
    "\n",
    "alpha = 3e-4\n",
    "diff_kwargs = {\"kind\": \"kalman\", \"alpha\": alpha}\n",
    "Ut, Theta, Ut_grouped, Theta_grouped, rhs_des = construct_group_linear_system(u, x, t, \n",
    "                                                                              diff_kwargs, \n",
    "                                                                              include_bias=False)"
   ]
  },
  {
   "cell_type": "code",
   "execution_count": null,
   "metadata": {
    "tags": []
   },
   "outputs": [],
   "source": [
    "# # Build linear systems\n",
    "# wx = 10\n",
    "# wt = 10\n",
    "# deg_x = 6\n",
    "# deg_t = 4\n",
    "\n",
    "# Utn, Thetan, rhs_des = build_linear_system(un, dt, dx, D=4, P=3, time_diff = 'poly',\n",
    "#                                        deg_x = deg_x, deg_t = deg_t, \n",
    "#                                        width_x = wx, width_t = wt)\n",
    "# n2 = n - 2*wx\n",
    "# m2 = m - 2*wt\n",
    "\n",
    "# Theta_grouped = np.array([real(Theta[n*np.arange(m)+j,:]) for j in range(n)])\n",
    "# Ut_grouped = np.array([real(Ut[n*np.arange(m)+j]) for j in range(n)])\n",
    "\n",
    "fft_percent = 90\n",
    "fft_Theta_grouped = np.array([remove_f(fft(Theta_grouped[:, :, k]), fft_percent) \n",
    "                              for k in range(Theta_grouped.shape[-1])])\n",
    "fft_Theta_grouped = np.moveaxis(fft_Theta_grouped, 0, -1)\n",
    "fft_Ut_grouped = remove_f(fft(Ut_grouped[:, :, 0]), fft_percent)\n",
    "fft_Ut_grouped = np.expand_dims(fft_Ut_grouped, -1)"
   ]
  },
  {
   "cell_type": "code",
   "execution_count": null,
   "metadata": {},
   "outputs": [],
   "source": [
    "# Solve and plot\n",
    "Xi,Tol,Losses = TrainSGTRidge(Theta_grouped, Ut_grouped)\n",
    "xi = Xi[np.argmin(Losses)]"
   ]
  },
  {
   "cell_type": "code",
   "execution_count": null,
   "metadata": {},
   "outputs": [],
   "source": [
    "pylab.rcParams['figure.figsize'] = (12, 8)\n",
    "for j in range(xi.shape[0]): \n",
    "    if np.linalg.norm(xi[j,:]) > 10**-10:\n",
    "        print(j, rhs_des[j])\n",
    "        plot(x, xi[j,:], label = rhs_des[j])\n",
    "                \n",
    "title('Kuramoto Sivashinsky Equation Coefficients', fontsize = 16)\n",
    "xlabel('x', fontsize = 16)\n",
    "ylabel('Coefficient Value', fontsize = 16)\n",
    "legend(loc='center left', bbox_to_anchor=(1, 0.5), fontsize = 14)\n",
    "plt.show()\n",
    "# mse_clean_sgtr = Norm(xi-xi_true[:,wx:-wx])**2/(m*len(rhs_des))\n",
    "# print('MSE: ', mse_clean_sgtr)"
   ]
  },
  {
   "cell_type": "code",
   "execution_count": null,
   "metadata": {},
   "outputs": [],
   "source": [
    "candidates = {(0, 1, 3, 4, 6, 7, 8, 9, 11),\n",
    "              (0, 1, 3, 4, 6, 7, 10, 11),\n",
    "              (1, 2, 3, 4, 6, 7, 8, 12, 15, 16),\n",
    "              (3, 4, 6, 7),\n",
    "              (3, 4, 6, 7, 9, 10, 11, 13, 14, 15, 18),\n",
    "              (3, 4, 6, 7, 9, 12),\n",
    "              (3, 4, 6, 7, 9, 12, 18),\n",
    "              (3, 4, 6, 7, 13),\n",
    "              (4, 6, 7),\n",
    "              (6, 7),\n",
    "              (7,)}\n",
    "candidates = sorted(candidates, key=len)\n",
    "rhs_des[4], rhs_des[6], rhs_des[7]"
   ]
  },
  {
   "cell_type": "code",
   "execution_count": null,
   "metadata": {},
   "outputs": [],
   "source": [
    "f_u_xx, f_u_xxxx, f_uu_x = linear_fit_grouped_data((Theta_grouped, Ut_grouped), \n",
    "                                             considered_indices=candidates[2])\n",
    "plt.plot(f_u_xx[20:-20])\n",
    "plt.plot(f_u_xxxx[20:-20])\n",
    "plt.plot(f_uu_x[20:-20])\n",
    "plt.show()"
   ]
  },
  {
   "cell_type": "markdown",
   "metadata": {},
   "source": [
    "#### Feyn"
   ]
  },
  {
   "cell_type": "code",
   "execution_count": null,
   "metadata": {},
   "outputs": [],
   "source": [
    "ql = feyn.QLattice()\n",
    "w = 20\n",
    "train = pd.DataFrame({'x':x[w:-w], 'y':f_u_xx[w:-w]})\n",
    "models = ql.auto_run(train, output_name = 'y', max_complexity=2, n_epochs=20)\n",
    "best1 = models[0]\n",
    "best1.sympify().as_expr()"
   ]
  },
  {
   "cell_type": "code",
   "execution_count": null,
   "metadata": {},
   "outputs": [],
   "source": [
    "ql = feyn.QLattice()\n",
    "w = 20\n",
    "train = pd.DataFrame({'x':x[w:-w], 'y':f_u_xxxx[w:-w]})\n",
    "models = ql.auto_run(train, output_name = 'y', max_complexity=3, n_epochs=20)\n",
    "best2 = models[0]\n",
    "best2.sympify().as_expr()"
   ]
  },
  {
   "cell_type": "code",
   "execution_count": null,
   "metadata": {},
   "outputs": [],
   "source": [
    "est_uu_x = (-0.25113 * sin(x * -0.32253)) + 0.95955\n",
    "est_u_xx = best1.predict(pd.DataFrame({'x':x}))\n",
    "est_u_xxxx = best2.predict(pd.DataFrame({'x':x}))\n",
    "\n",
    "latex(best1.sympify().as_expr(), full_prec=False), latex(best2.sympify().as_expr(), full_prec=False)"
   ]
  },
  {
   "cell_type": "code",
   "execution_count": null,
   "metadata": {},
   "outputs": [],
   "source": [
    "fs = 12\n",
    "with plt.style.context('science'):\n",
    "    fig, ax = plt.subplots(figsize=(4, 3))\n",
    "    ax.plot(x, f_uu_x, '-', c='blue')\n",
    "    ax.plot(x, est_uu_x, '--', c='blue', label='$uu_{x}: 0.25113\\sin(0.32253x) + 0.95955$')\n",
    "    ax.plot(x, f_u_xx, '-', c='red')\n",
    "    ax.plot(x, est_u_xx, '--', c='red', label='$u_{xx}: -0.977945 + 0.382901 e^{- 0.169647 \\\\left(x - 0.611377\\\\right)^{2}}$')\n",
    "    ax.plot(x, f_u_xxxx, '-', c='black')\n",
    "    ax.plot(x, est_u_xxxx, '--', c='black', label='$u_{xxxx}: -0.96438 - 0.260616 e^{- 5.51134 \\\\left(- 0.347862 x - 1\\\\right)^{2}}$')\n",
    "    ax.set_ylabel('Spatially varying coefficients', fontsize=fs)\n",
    "    ax.set_xlabel('$x$', fontsize=fs)\n",
    "    ax.xaxis.set_label_coords(1.02, 0)\n",
    "    ax.set_title(\"Parametric Kuramoto–Sivashinsky PDE\", fontsize=fs)\n",
    "    ax.legend(fontsize=fs)\n",
    "    box = ax.get_position()\n",
    "    ax.set_position([box.x0, box.y0 + box.height * 0.1,\n",
    "                     box.width, box.height * 0.9])\n",
    "\n",
    "    # Put a legend below current axis\n",
    "    ax.legend(loc='upper center', bbox_to_anchor=(0.5, -0.05),\n",
    "              fancybox=False, shadow=False, ncol=1)\n",
    "    fig.tight_layout()\n",
    "    # plt.savefig(f\"/Users/pongpisit/Documents/latex/UBIC-ACML/figures/ks_feyn_noise0-01.pdf\")\n",
    "    plt.show()"
   ]
  },
  {
   "cell_type": "markdown",
   "metadata": {},
   "source": [
    "#### PySR"
   ]
  },
  {
   "cell_type": "code",
   "execution_count": null,
   "metadata": {},
   "outputs": [],
   "source": [
    "y1 = (sin(x * -0.32253) * -0.25117) - -0.95951\n",
    "y1 = (-0.25113 * sin(x * -0.32253)) + 0.95955\n",
    "\n",
    "y2 = -0.97764 + (0.2091 * exp(((x - 3.3079) * x) * -0.1777))\n",
    "# y2 = exp(-2.4803 - ((x + -2.5827) * x)) + -0.95397\n",
    "\n",
    "y3 = (0.19909 * (exp((x * x) * -0.26832) * x)) + -0.9798\n",
    "# y3 = y = exp(-1.7509 - (x * x)) + -0.98854"
   ]
  },
  {
   "cell_type": "code",
   "execution_count": null,
   "metadata": {},
   "outputs": [],
   "source": [
    "fs = 12\n",
    "with plt.style.context('science'):\n",
    "    fig, ax = plt.subplots(figsize=(4, 3))\n",
    "    ax.plot(x, f_uu_x, '-', c='blue')\n",
    "    ax.plot(x, y1, '--', c='blue', label='$uu_{x}: 0.25113\\sin(0.32253x) + 0.95955$')\n",
    "    ax.plot(x, f_u_xx, '-', c='red')\n",
    "    ax.plot(x, y2, '--', c='red', label='$u_{xx}: -0.97764 + 0.2091e^{-0.1777x(x - 3.3079)}$')\n",
    "    ax.plot(x, f_u_xxxx, '-', c='black')\n",
    "    ax.plot(x, y3, '--', c='black', label='$u_{xxxx}: - 0.9798 + 0.19909xe^{-0.26832x^{2}}$')\n",
    "    ax.set_ylabel('Spatially varying coefficients', fontsize=fs)\n",
    "    ax.set_xlabel('$x$', fontsize=fs)\n",
    "    ax.xaxis.set_label_coords(1.02, 0)\n",
    "    ax.set_title(\"Parametric Kuramoto–Sivashinsky PDE\", fontsize=fs)\n",
    "    ax.legend(fontsize=fs)\n",
    "    box = ax.get_position()\n",
    "    ax.set_position([box.x0, box.y0 + box.height * 0.1,\n",
    "                     box.width, box.height * 0.9])\n",
    "\n",
    "    # Put a legend below current axis\n",
    "    ax.legend(loc='upper center', bbox_to_anchor=(0.5, -0.05),\n",
    "              fancybox=False, shadow=False, ncol=1)\n",
    "    fig.tight_layout()\n",
    "    # plt.savefig(f\"/Users/pongpisit/Documents/latex/UBIC-ACML/figures/ks_pysr_noise0-01.pdf\")\n",
    "    plt.show()"
   ]
  }
 ],
 "metadata": {
  "anaconda-cloud": {},
  "kernelspec": {
   "display_name": "Python [conda env:pysr_latest]",
   "language": "python",
   "name": "conda-env-pysr_latest-py"
  },
  "language_info": {
   "codemirror_mode": {
    "name": "ipython",
    "version": 3
   },
   "file_extension": ".py",
   "mimetype": "text/x-python",
   "name": "python",
   "nbconvert_exporter": "python",
   "pygments_lexer": "ipython3",
   "version": "3.11.9"
  }
 },
 "nbformat": 4,
 "nbformat_minor": 4
}
